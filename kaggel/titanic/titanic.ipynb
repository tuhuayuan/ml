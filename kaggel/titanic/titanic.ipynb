{
 "cells": [
  {
   "cell_type": "code",
   "execution_count": 171,
   "metadata": {
    "collapsed": true
   },
   "outputs": [],
   "source": [
    "import pandas as pd\n",
    "import numpy as np\n",
    "from sklearn.preprocessing import Imputer, OneHotEncoder, LabelEncoder, StandardScaler\n",
    "from sklearn.linear_model import LogisticRegression"
   ]
  },
  {
   "cell_type": "code",
   "execution_count": 170,
   "metadata": {},
   "outputs": [],
   "source": [
    "df_train = pd.read_csv('./train.csv')\n",
    "df_test = pd.read_csv('./test.csv')\n"
   ]
  },
  {
   "cell_type": "code",
   "execution_count": 168,
   "metadata": {},
   "outputs": [],
   "source": [
    "X_train = df_train[['Pclass', 'Sex', 'Age', 'SibSp', 'Parch', 'Fare']].copy()\n",
    "y_train = df_train[['Survived']].copy()\n",
    "X_test = df_test[['Pclass', 'Sex', 'Age', 'SibSp', 'Parch', 'Fare']].copy()\n",
    "\n",
    "imr_age = Imputer(axis=0, strategy='mean')\n",
    "imr_age_data = imr_age.fit_transform(X_train[['Age','Fare']].values)\n",
    "X_train.loc[:, ['Age', 'Fare']] = imr_age_data\n",
    "imr_age_data = imr_age.fit_transform(X_test[['Age', 'Fare']].values)\n",
    "X_test.loc[:, ['Age', 'Fare']] = imr_age_data\n",
    "\n",
    "class_sex = LabelEncoder()\n",
    "class_sex_data = class_sex.fit_transform(X_train['Sex'].values)\n",
    "X_train.loc[:, 'Sex'] = class_sex_data\n",
    "class_sex_data = class_sex.fit_transform(X_test['Sex'].values)\n",
    "X_test.loc[:, 'Sex'] = class_sex_data\n",
    "\n",
    "ohe_sex = OneHotEncoder(categorical_features=[0])\n",
    "ohe_sex_data = ohe_sex.fit_transform(X_train[['Sex']].values).toarray()\n",
    "X_train = pd.concat([X_train, \n",
    "                     pd.DataFrame(data=ohe_sex_data, columns=['Female', 'Male'])], \n",
    "                    axis=1).drop(['Sex'], axis=1)\n",
    "ohe_sex_data = ohe_sex.fit_transform(X_test[['Sex']].values).toarray()\n",
    "X_test = pd.concat([X_test, \n",
    "                    pd.DataFrame(data=ohe_sex_data, columns=['Female', 'Male'])], \n",
    "                   axis=1).drop(['Sex'], axis=1)\n",
    "\n",
    "\n",
    "stdsc = StandardScaler()\n",
    "X_train_std = stdsc.fit_transform(X_train.values)\n",
    "X_test_std = stdsc.fit_transform(X_test.values)"
   ]
  },
  {
   "cell_type": "code",
   "execution_count": 172,
   "metadata": {},
   "outputs": [
    {
     "name": "stdout",
     "output_type": "stream",
     "text": [
      "Training accuracy: 0.802469135802\n"
     ]
    }
   ],
   "source": [
    "lr = LogisticRegression(penalty='l2', C=0.1)\n",
    "lr.fit(X_train_std, y_train['Survived'].values)\n",
    "\n",
    "print('Training accuracy:', lr.score(X_train_std, y_train))"
   ]
  }
 ],
 "metadata": {
  "kernelspec": {
   "display_name": "Python 3",
   "language": "python",
   "name": "python3"
  },
  "language_info": {
   "codemirror_mode": {
    "name": "ipython",
    "version": 3
   },
   "file_extension": ".py",
   "mimetype": "text/x-python",
   "name": "python",
   "nbconvert_exporter": "python",
   "pygments_lexer": "ipython3",
   "version": "3.5.2"
  }
 },
 "nbformat": 4,
 "nbformat_minor": 2
}
